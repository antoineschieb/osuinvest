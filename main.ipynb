{
 "cells": [
  {
   "cell_type": "code",
   "execution_count": 3,
   "metadata": {},
   "outputs": [],
   "source": [
    "from routines import reset_all_trades, create_new_investor, create_new_stock\n",
    "from constants import name_id, id_name\n",
    "import pandas as pd\n",
    "from bank import buy_stock, sell_stock, pay_all_dividends\n",
    "from visual import print_all\n",
    "from prestige_hype import compute_prestige_and_hype\n",
    "from routines import refresh_player_data_raw\n",
    "from visual import add_current_name_col\n",
    "pd.set_option('display.width', 1800)\n",
    "\n",
    "# constamment:\n",
    "## updates dynamiques: fluctuations prix demand/supply\n",
    "## un mec buy -> ça update_stock()(qui lui meme log l'update de prix), et log_transaction()\n",
    "\n",
    "# toutes les 5 mins:\n",
    "## updates statiques: all top50 players stats\n",
    "\n",
    "# Toutes les 24h:\n",
    "## Paiement des dividendes\n",
    "\n",
    "# Toutes les nouvelles saisons:\n",
    "## recompute le top50 pour name_id, id_name"
   ]
  },
  {
   "cell_type": "markdown",
   "metadata": {},
   "source": [
    "#### New season start"
   ]
  },
  {
   "cell_type": "code",
   "execution_count": 4,
   "metadata": {},
   "outputs": [],
   "source": [
    "# do not use reset_all_trades() until new season.\n",
    "\n",
    "# # create traders\n",
    "# create_new_investor('besta', 99999999)\n",
    "# create_new_investor('carbone', 1000)\n",
    "# create_new_investor('mion1', 1000)\n",
    "\n",
    "\n",
    "# # create all stocks, once\n",
    "# refresh_player_data_raw()\n",
    "# df = compute_prestige_and_hype()\n",
    "# for i,x in enumerate(df.index):\n",
    "#     pp,p,h = df.loc[x,:]\n",
    "#     create_new_stock(x, pp, h, p, 1000, 0)"
   ]
  },
  {
   "cell_type": "code",
   "execution_count": null,
   "metadata": {},
   "outputs": [],
   "source": [
    "# Ideally every 10 minutes, update all stocks\n",
    "from datetime import datetime\n",
    "import time\n",
    "from routines import update_stock, refresh_player_data_raw\n",
    "from utils import get_stock_by_name\n",
    "from prestige_hype import compute_prestige_and_hype\n",
    "\n",
    "\n",
    "for _ in range(99999):\n",
    "    try:\n",
    "        refresh_player_data_raw()\n",
    "        df = compute_prestige_and_hype()\n",
    "        for x in df.index:\n",
    "            pp,p,h = df.loc[x,:]\n",
    "            stock = get_stock_by_name(x)\n",
    "            stock.raw_skill = pp \n",
    "            stock.trendiness = h\n",
    "            stock.prestige = p\n",
    "            update_stock(stock)\n",
    "    except Exception as e:\n",
    "        print(datetime.now(), e)\n",
    "        time.sleep(60)\n",
    "        continue\n",
    "    time.sleep(300)"
   ]
  },
  {
   "cell_type": "code",
   "execution_count": null,
   "metadata": {},
   "outputs": [],
   "source": [
    "import time, random\n",
    "buy_stock('besta', 'le ThibZ', 45)\n",
    "buy_stock('besta', 'ThePooN', 30)\n",
    "buy_stock('besta', 'Zeaqk', 30)\n",
    "for _ in range(4):\n",
    "    buy_stock('besta', 'le ThibZ', random.randint(-5,5))\n",
    "    buy_stock('besta', 'ThePooN', random.randint(-5,5))\n",
    "    buy_stock('besta', 'Zeaqk', random.randint(-5,5))\n",
    "    time.sleep(1.01)\n",
    "\n",
    "buy_stock('besta', 'le ThibZ', 3)"
   ]
  },
  {
   "cell_type": "code",
   "execution_count": null,
   "metadata": {},
   "outputs": [],
   "source": [
    "# from osuapi import api\n",
    "# from datetime import timedelta\n",
    "\n",
    "# u = api.user(1019489)\n",
    "\n",
    "\n"
   ]
  }
 ],
 "metadata": {
  "kernelspec": {
   "display_name": "Python 3",
   "language": "python",
   "name": "python3"
  },
  "language_info": {
   "codemirror_mode": {
    "name": "ipython",
    "version": 3
   },
   "file_extension": ".py",
   "mimetype": "text/x-python",
   "name": "python",
   "nbconvert_exporter": "python",
   "pygments_lexer": "ipython3",
   "version": "3.11.4"
  }
 },
 "nbformat": 4,
 "nbformat_minor": 2
}
