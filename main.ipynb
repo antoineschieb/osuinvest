{
 "cells": [
  {
   "cell_type": "code",
   "execution_count": 1,
   "metadata": {},
   "outputs": [],
   "source": [
    "from routines import reset_all_trades, create_new_investor, create_new_stock, print_all\n",
    "reset_all_trades()\n",
    "create_new_investor('besta', 100000)\n",
    "create_new_stock('thepoon', 13.077, 1.04, 3.5, 1000, 0)\n",
    "create_new_stock('thuya', 13.500, 2.00, 1.1, 1000.0, 0)\n"
   ]
  },
  {
   "cell_type": "code",
   "execution_count": 2,
   "metadata": {},
   "outputs": [
    {
     "data": {
      "text/plain": [
       "100000.0"
      ]
     },
     "execution_count": 2,
     "metadata": {},
     "output_type": "execute_result"
    }
   ],
   "source": [
    "from utils import get_net_worth\n",
    "\n",
    "get_net_worth('besta')"
   ]
  },
  {
   "cell_type": "code",
   "execution_count": 3,
   "metadata": {},
   "outputs": [
    {
     "name": "stdout",
     "output_type": "stream",
     "text": [
      "100000.0\n",
      "besta has just bought 5 share(s) of thuya for $144.7 !\n",
      "100001.45\n",
      "besta has just sold 5 share(s) of thuya for $116.92 !\n",
      "99972.22\n"
     ]
    }
   ],
   "source": [
    "from bank import buy_stock\n",
    "from routines import print_all\n",
    "\n",
    "print(get_net_worth('besta'))\n",
    "buy_stock('besta', 'thuya', 5)\n",
    "print(get_net_worth('besta'))\n",
    "# print_all()\n",
    "buy_stock('besta', 'thuya', -5)\n",
    "# print_all()\n",
    "print(get_net_worth('besta'))"
   ]
  }
 ],
 "metadata": {
  "kernelspec": {
   "display_name": "Python 3",
   "language": "python",
   "name": "python3"
  },
  "language_info": {
   "codemirror_mode": {
    "name": "ipython",
    "version": 3
   },
   "file_extension": ".py",
   "mimetype": "text/x-python",
   "name": "python",
   "nbconvert_exporter": "python",
   "pygments_lexer": "ipython3",
   "version": "3.10.12"
  }
 },
 "nbformat": 4,
 "nbformat_minor": 2
}
