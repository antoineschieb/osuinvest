{
 "cells": [
  {
   "cell_type": "code",
   "execution_count": 1,
   "metadata": {},
   "outputs": [],
   "source": [
    "from routines import reset_all_trades, create_new_investor, create_new_stock, print_all\n",
    "from utils import get_net_worth, get_balance\n",
    "\n",
    "reset_all_trades()\n",
    "create_new_investor('besta', 1000)\n",
    "create_new_investor('carbone', 1000)\n",
    "create_new_investor('mion1', 1000)\n",
    "create_new_stock('thepoon', 13.077, 1.04, 3.5, 1000, 0)\n",
    "create_new_stock('thuya', 13.500, 2.00, 1.1, 1000, 0)\n",
    "create_new_stock('zeaqk', 15.500, 3.50, 1.05, 1000, 0)\n",
    "create_new_stock('lexonox', 10.486, 1.07, 1.30, 1000, 0)\n"
   ]
  },
  {
   "cell_type": "code",
   "execution_count": 2,
   "metadata": {},
   "outputs": [
    {
     "name": "stdout",
     "output_type": "stream",
     "text": [
      "\n",
      "\n",
      "STOCKS\n",
      "         raw_skill  trendiness  prestige  total_shares  sold_shares  value\n",
      "name                                                                      \n",
      "thuya       13.500        2.00      1.10        1000.0          0.0  28.94\n",
      "thepoon     13.077        1.04      3.50        1000.0          0.0  15.00\n",
      "zeaqk       15.500        3.50      1.05        1000.0          0.0  57.76\n",
      "lexonox     10.486        1.07      1.30        1000.0          0.0  11.45\n",
      "\n",
      "\n",
      "INVESTORS\n",
      "         cash_balance\n",
      "name                 \n",
      "mion1          1000.0\n",
      "besta          1000.0\n",
      "carbone        1000.0\n",
      "\n",
      "\n",
      "PORTFOLIOS\n",
      "portfolios/besta.csv\n",
      "Empty DataFrame\n",
      "Columns: [shares_owned]\n",
      "Index: []\n",
      "portfolios/mion1.csv\n",
      "Empty DataFrame\n",
      "Columns: [shares_owned]\n",
      "Index: []\n",
      "portfolios/carbone.csv\n",
      "Empty DataFrame\n",
      "Columns: [shares_owned]\n",
      "Index: []\n",
      "\n",
      "\n",
      "OWNERSHIPS\n",
      "ownerships/zeaqk.csv\n",
      "Empty DataFrame\n",
      "Columns: [shares_owned]\n",
      "Index: []\n",
      "ownerships/thepoon.csv\n",
      "Empty DataFrame\n",
      "Columns: [shares_owned]\n",
      "Index: []\n",
      "ownerships/thuya.csv\n",
      "Empty DataFrame\n",
      "Columns: [shares_owned]\n",
      "Index: []\n",
      "ownerships/lexonox.csv\n",
      "Empty DataFrame\n",
      "Columns: [shares_owned]\n",
      "Index: []\n"
     ]
    }
   ],
   "source": [
    "print_all()"
   ]
  },
  {
   "cell_type": "code",
   "execution_count": 3,
   "metadata": {},
   "outputs": [
    {
     "name": "stdout",
     "output_type": "stream",
     "text": [
      "besta has just bought 30 share(s) of thepoon for $450.0 !\n",
      "carbone has just bought 10 share(s) of zeaqk for $577.6 !\n",
      "mion1 has just bought 20 share(s) of thuya for $578.8 !\n"
     ]
    }
   ],
   "source": [
    "from bank import buy_stock, sell_stock\n",
    "from routines import print_all\n",
    "\n",
    "buy_stock('besta', 'thepoon', 30)\n",
    "buy_stock('carbone', 'zeaqk', 10)\n",
    "buy_stock('mion1', 'thuya', 20)"
   ]
  },
  {
   "cell_type": "code",
   "execution_count": 4,
   "metadata": {},
   "outputs": [
    {
     "name": "stdout",
     "output_type": "stream",
     "text": [
      "\n",
      "\n",
      "STOCKS\n",
      "         raw_skill  trendiness  prestige  total_shares  sold_shares  value\n",
      "name                                                                      \n",
      "thuya       13.500        2.00      1.10        1000.0         20.0  30.12\n",
      "thepoon     13.077        1.04      3.50        1000.0         30.0  15.93\n",
      "zeaqk       15.500        3.50      1.05        1000.0         10.0  58.92\n",
      "lexonox     10.486        1.07      1.30        1000.0          0.0  11.45\n",
      "\n",
      "\n",
      "INVESTORS\n",
      "         cash_balance\n",
      "name                 \n",
      "mion1           421.2\n",
      "besta           550.0\n",
      "carbone         422.4\n",
      "\n",
      "\n",
      "PORTFOLIOS\n",
      "portfolios/besta.csv\n",
      "            shares_owned\n",
      "stock_name              \n",
      "thepoon               30\n",
      "portfolios/mion1.csv\n",
      "            shares_owned\n",
      "stock_name              \n",
      "thuya                 20\n",
      "portfolios/carbone.csv\n",
      "            shares_owned\n",
      "stock_name              \n",
      "zeaqk                 10\n",
      "\n",
      "\n",
      "OWNERSHIPS\n",
      "ownerships/zeaqk.csv\n",
      "               shares_owned\n",
      "investor_name              \n",
      "carbone                  10\n",
      "ownerships/thepoon.csv\n",
      "               shares_owned\n",
      "investor_name              \n",
      "besta                    30\n",
      "ownerships/thuya.csv\n",
      "               shares_owned\n",
      "investor_name              \n",
      "mion1                    20\n",
      "ownerships/lexonox.csv\n",
      "Empty DataFrame\n",
      "Columns: [shares_owned]\n",
      "Index: []\n"
     ]
    }
   ],
   "source": [
    "print_all()"
   ]
  },
  {
   "cell_type": "code",
   "execution_count": 5,
   "metadata": {},
   "outputs": [
    {
     "name": "stdout",
     "output_type": "stream",
     "text": [
      "besta received $11.95 of dividends from their shares on thepoon!\n",
      "mion1 received $0.6 of dividends from their shares on thuya!\n",
      "carbone received $0.29 of dividends from their shares on zeaqk!\n"
     ]
    }
   ],
   "source": [
    "from bank import pay_dividends\n",
    "\n",
    "pay_dividends('besta')\n",
    "pay_dividends('mion1')\n",
    "pay_dividends('carbone')\n"
   ]
  },
  {
   "cell_type": "code",
   "execution_count": 6,
   "metadata": {},
   "outputs": [
    {
     "name": "stdout",
     "output_type": "stream",
     "text": [
      "\n",
      "\n",
      "STOCKS\n",
      "         raw_skill  trendiness  prestige  total_shares  sold_shares  value\n",
      "name                                                                      \n",
      "thuya       13.500        2.00      1.10        1000.0         20.0  30.12\n",
      "thepoon     13.077        1.04      3.50        1000.0         30.0  15.93\n",
      "zeaqk       15.500        3.50      1.05        1000.0         10.0  58.92\n",
      "lexonox     10.486        1.07      1.30        1000.0          0.0  11.45\n",
      "\n",
      "\n",
      "INVESTORS\n",
      "         cash_balance\n",
      "name                 \n",
      "mion1          421.80\n",
      "besta          561.95\n",
      "carbone        422.69\n",
      "\n",
      "\n",
      "PORTFOLIOS\n",
      "portfolios/besta.csv\n",
      "            shares_owned\n",
      "stock_name              \n",
      "thepoon               30\n",
      "portfolios/mion1.csv\n",
      "            shares_owned\n",
      "stock_name              \n",
      "thuya                 20\n",
      "portfolios/carbone.csv\n",
      "            shares_owned\n",
      "stock_name              \n",
      "zeaqk                 10\n",
      "\n",
      "\n",
      "OWNERSHIPS\n",
      "ownerships/zeaqk.csv\n",
      "               shares_owned\n",
      "investor_name              \n",
      "carbone                  10\n",
      "ownerships/thepoon.csv\n",
      "               shares_owned\n",
      "investor_name              \n",
      "besta                    30\n",
      "ownerships/thuya.csv\n",
      "               shares_owned\n",
      "investor_name              \n",
      "mion1                    20\n",
      "ownerships/lexonox.csv\n",
      "Empty DataFrame\n",
      "Columns: [shares_owned]\n",
      "Index: []\n"
     ]
    }
   ],
   "source": [
    "print_all()"
   ]
  }
 ],
 "metadata": {
  "kernelspec": {
   "display_name": "Python 3",
   "language": "python",
   "name": "python3"
  },
  "language_info": {
   "codemirror_mode": {
    "name": "ipython",
    "version": 3
   },
   "file_extension": ".py",
   "mimetype": "text/x-python",
   "name": "python",
   "nbconvert_exporter": "python",
   "pygments_lexer": "ipython3",
   "version": "3.10.12"
  }
 },
 "nbformat": 4,
 "nbformat_minor": 2
}
