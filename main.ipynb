{
 "cells": [
  {
   "cell_type": "code",
   "execution_count": 3,
   "metadata": {},
   "outputs": [],
   "source": [
    "from routines import reset_all_trades, create_new_investor, create_new_stock\n",
    "from constants import name_id, id_name\n",
    "import pandas as pd\n",
    "from bank import buy_stock, sell_stock, pay_all_dividends\n",
    "from visual import print_all\n",
    "from prestige_hype import compute_prestige_and_hype\n",
    "from routines import refresh_player_data_raw\n",
    "from visual import add_current_name_col\n",
    "pd.set_option('display.width', 1800)\n",
    "\n",
    "# TODO:\n",
    "# new_season function propre avec broadcast message\n"
   ]
  },
  {
   "cell_type": "markdown",
   "metadata": {},
   "source": [
    "#### New season start"
   ]
  },
  {
   "cell_type": "code",
   "execution_count": 6,
   "metadata": {},
   "outputs": [],
   "source": [
    "# do not use reset_all_trades() until new season.\n",
    "\n",
    "# # create traders\n",
    "# create_new_investor('besta', 99999999)\n",
    "# create_new_investor('carbone', 1000)\n",
    "# create_new_investor('mion1', 1000)\n",
    "\n",
    "\n",
    "# create all stocks, once\n",
    "# await refresh_player_data_raw()\n",
    "# df = compute_prestige_and_hype()\n",
    "# for i,x in enumerate(df.index):\n",
    "#     pp,p,h = df.loc[x,:]\n",
    "#     create_new_stock(x, pp, h, p, 1000, 0)"
   ]
  },
  {
   "cell_type": "code",
   "execution_count": null,
   "metadata": {},
   "outputs": [],
   "source": [
    "# Ideally every 10 minutes, update all stocks\n",
    "from datetime import datetime\n",
    "import time\n",
    "from routines import update_stock, refresh_player_data_raw\n",
    "from utils import get_stock_by_name\n",
    "from prestige_hype import compute_prestige_and_hype\n",
    "\n",
    "\n",
    "# for _ in range(99999):\n",
    "#     try:\n",
    "#         refresh_player_data_raw()\n",
    "#         df = compute_prestige_and_hype()\n",
    "#         for x in df.index:\n",
    "#             pp,p,h = df.loc[x,:]\n",
    "#             stock = get_stock_by_name(x)\n",
    "#             stock.raw_skill = pp \n",
    "#             stock.trendiness = h\n",
    "#             stock.prestige = p\n",
    "#             update_stock(stock)\n",
    "#     except Exception as e:\n",
    "#         print(datetime.now(), e)\n",
    "#         time.sleep(60)\n",
    "#         continue\n",
    "#     time.sleep(300)"
   ]
  },
  {
   "cell_type": "code",
   "execution_count": null,
   "metadata": {},
   "outputs": [],
   "source": [
    "# from osuapi import api\n",
    "# from datetime import timedelta\n",
    "\n",
    "# u = api.user(1019489)\n",
    "\n",
    "\n"
   ]
  }
 ],
 "metadata": {
  "kernelspec": {
   "display_name": "Python 3",
   "language": "python",
   "name": "python3"
  },
  "language_info": {
   "codemirror_mode": {
    "name": "ipython",
    "version": 3
   },
   "file_extension": ".py",
   "mimetype": "text/x-python",
   "name": "python",
   "nbconvert_exporter": "python",
   "pygments_lexer": "ipython3",
   "version": "3.11.4"
  }
 },
 "nbformat": 4,
 "nbformat_minor": 2
}
