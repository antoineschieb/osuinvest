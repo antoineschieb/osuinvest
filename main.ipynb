{
 "cells": [
  {
   "cell_type": "code",
   "execution_count": 1,
   "metadata": {},
   "outputs": [],
   "source": [
    "from routines import reset_all_trades, create_new_investor, create_new_stock, print_all\n",
    "from utils import get_net_worth, get_balance\n",
    "from constants import name_id, id_name\n",
    "import pandas as pd\n",
    "from bank import buy_stock, sell_stock, pay_dividends\n",
    "from routines import print_all\n",
    "from utils import add_current_name_col\n",
    "pd.set_option('display.width', 1800)\n",
    "\n",
    "# constamment:\n",
    "## updates dynamiques: fluctuations prix demand/supply\n",
    "## un mec buy -> ça update_stock()(qui lui meme log l'update de prix), et log_transaction()\n",
    "\n",
    "# toutes les 5 mins:\n",
    "## updates statiques: all top50 players stats\n",
    "\n",
    "# Toutes les 24h:\n",
    "## Paiement des dividendes\n",
    "\n",
    "# Toutes les nouvelles saisons:\n",
    "## recompute le top50 pour name_id, id_name"
   ]
  },
  {
   "cell_type": "markdown",
   "metadata": {},
   "source": [
    "#### typical game steps"
   ]
  },
  {
   "cell_type": "code",
   "execution_count": 2,
   "metadata": {},
   "outputs": [],
   "source": [
    "from prestige_hype import compute_prestige_and_hype\n",
    "\n",
    "reset_all_trades()\n",
    "\n",
    "# create traders\n",
    "create_new_investor('besta', 99999999)\n",
    "create_new_investor('carbone', 1000)\n",
    "create_new_investor('mion1', 1000)\n",
    "\n",
    "# create stocks\n",
    "df_raw = pd.read_csv(\"player_data_raw.csv\", index_col='id')\n",
    "df = compute_prestige_and_hype(df_raw)\n",
    "for i,x in enumerate(df.index):\n",
    "    pp,p,h = df.loc[x,:]\n",
    "    create_new_stock(x, pp/1000, h, p, 1000, 0)\n"
   ]
  },
  {
   "cell_type": "code",
   "execution_count": 18,
   "metadata": {},
   "outputs": [
    {
     "name": "stdout",
     "output_type": "stream",
     "text": [
      "besta has just bought 3 share(s) of le ThibZ for $259.89 !\n"
     ]
    }
   ],
   "source": [
    "import time, random\n",
    "# buy_stock('besta', 'le ThibZ', 45)\n",
    "# buy_stock('besta', 'ThePooN', 30)\n",
    "# buy_stock('besta', 'Zeaqk', 30)\n",
    "# for _ in range(20):\n",
    "#     buy_stock('besta', 'le ThibZ', random.randint(-5,5))\n",
    "#     buy_stock('besta', 'ThePooN', random.randint(-5,5))\n",
    "#     buy_stock('besta', 'Zeaqk', random.randint(-5,5))\n",
    "#     time.sleep(1.01)\n",
    "\n",
    "buy_stock('besta', 'le ThibZ', 3)"
   ]
  },
  {
   "cell_type": "code",
   "execution_count": 24,
   "metadata": {},
   "outputs": [
    {
     "data": {
      "image/png": "[encoded data removed]",
      "text/plain": [
       "<Figure size 640x480 with 1 Axes>"
      ]
     },
     "metadata": {},
     "output_type": "display_data"
    }
   ],
   "source": [
    "from plotting import plot_price_evolution\n",
    "\n",
    "\n",
    "plot_price_evolution(['ThePooN','le ThibZ'])"
   ]
  },
  {
   "cell_type": "code",
   "execution_count": null,
   "metadata": {},
   "outputs": [
    {
     "name": "stdout",
     "output_type": "stream",
     "text": [
      "\n",
      "\n",
      "STOCKS\n",
      "             current_name  raw_skill  trendiness  prestige  total_shares  sold_shares  value_intrinsic   value  dividend_yield\n",
      "name                                                                                                                          \n",
      "8443945           FlasTEH    16.0317    1.751517  2.306913        1000.0          0.0            64.78   64.78            1.20\n",
      "7657831   MBAPPEEEEEEEEEE    15.7357    1.838317  2.649792        1000.0          0.0            76.65   76.65            1.49\n",
      "4141918           Thundur    15.5208    1.794019  2.752288        1000.0          0.0            76.64   76.64            1.56\n",
      "14733798            Zeaqk    15.2386    5.223530  2.063442        1000.0          0.0           164.25  164.25            1.70\n",
      "18323396    golem de caca    14.8554    2.061679  1.895878        1000.0          0.0            58.07   58.07            0.93\n",
      "11948617           Saymel    14.7516    1.852964  1.962422        1000.0          0.0            53.64   53.64            0.94\n",
      "2831793     chokbar de bz    14.4506    1.615115  9.498843        1000.0          0.0           221.70  221.70            6.92\n",
      "17104779          Barbone    14.3896    2.525915  1.623686        1000.0          0.0            59.02   59.02            0.80\n",
      "6133101            Arakii    14.1059    1.808776  1.856108        1000.0          0.0            47.36   47.36            0.85\n",
      "6337610         Giga Mars    13.7761    1.858190  1.754921        1000.0          0.0            44.92   44.92            0.78\n",
      "7806847              suly    13.7075    2.075425  1.987485        1000.0          0.0            56.54   56.54            1.01\n",
      "3872987          -raizen-    13.6477    2.127229  2.727784        1000.0          0.0            79.19   79.19            1.61\n",
      "14176480       Raspigaous    13.5462    2.449680  1.865138        1000.0          0.0            61.89   61.89            0.98\n",
      "251683              Musty    13.4062    2.073592  4.585072        1000.0          0.0           127.46  127.46            3.08\n",
      "284905              Ekoro    13.4014    1.721812  6.633526        1000.0          0.0           153.07  153.07            4.65\n",
      "11750028         le ThibZ    13.3142    2.907800  1.879525        1000.0        103.0            72.77   89.48            1.09\n",
      "14289060      DEMOLITORUS    13.2627    1.705541  1.593906        1000.0          0.0            36.05   36.05            0.62\n",
      "5783315           Carbone    13.2363    1.850277  1.979166        1000.0          0.0            48.47   48.47            0.95\n",
      "13080423          sekibae    13.1436    1.748493  1.629760        1000.0          0.0            37.45   37.45            0.65\n",
      "7728757            -ZooM-    13.1125    1.503071  1.978538        1000.0          0.0            39.00   39.00            0.88\n",
      "718454            ThePooN    13.0766    1.667767  7.798824        1000.0        117.0           170.08  215.15            5.57\n",
      "11345747            BProd    13.0373    1.936053  1.676040        1000.0          0.0            42.30   42.30            0.73\n",
      "3820683       KC Snorlaax    12.9889    1.751208  2.259985        1000.0          0.0            51.41   51.41            1.16\n",
      "13652059    MietteDePain_    12.9227    2.010095  1.668053        1000.0          0.0            43.33   43.33            0.74\n",
      "3213239            flaven    12.6518    1.637149  2.995413        1000.0          0.0            62.04   62.04            1.72\n",
      "4185400            -Nenu-    12.6467    2.773190  1.759344        1000.0          0.0            61.70   61.70            0.96\n",
      "11053358    Garage du Lac    12.6296    1.932870  1.794331        1000.0          0.0            43.80   43.80            0.82\n",
      "8236827           Fumatsu    12.5255    1.818185  1.858438        1000.0          0.0            42.32   42.32            0.85\n",
      "10656864            Nessy    12.5248    2.249365  1.726413        1000.0          0.0            48.64   48.64            0.83\n",
      "8573172      Hardstuck 10    12.5225    1.821879  1.817210        1000.0          0.0            41.46   41.46            0.82\n",
      "7068158          JapWhite    12.4903    2.246432  1.716145        1000.0          0.0            48.15   48.15            0.82\n",
      "4301976            Hifkil    12.3513    1.810475  1.691737        1000.0          0.0            37.83   37.83            0.72\n",
      "11843859     TacosCordoba    12.2940    2.343841  1.746064        1000.0          0.0            50.31   50.31            0.87\n",
      "5189431       Hardstuck 2    12.2687    1.737018  2.029915        1000.0          0.0            43.26   43.26            0.97\n",
      "14935968       -Watamelon    12.0563    3.051626  1.496720        1000.0          0.0            55.07   55.07            0.81\n",
      "14165027        lonq noir    12.0131    1.781935  1.553945        1000.0          0.0            33.26   33.26            0.60\n",
      "1093361             Kynan    12.0013    1.709043  2.439340        1000.0          0.0            50.03   50.03            1.29\n",
      "12529846  HERNANDEEEEEEEZ    11.8580    2.142829  1.500868        1000.0          0.0            38.14   38.14            0.63\n",
      "14547194        Azertyran    11.8036    2.090454  1.480339        1000.0          0.0            36.53   36.53            0.60\n",
      "2705430             Mooha    11.8001    2.135414  1.837617        1000.0          0.0            46.30   46.30            0.90\n",
      "9650310          [Asckar]    11.7793    2.306951  1.579340        1000.0          0.0            42.92   42.92            0.72\n",
      "11170841            -Wum-    11.7631    2.880617  1.536747        1000.0          0.0            52.07   52.07            0.81\n",
      "1825928              oxia    11.7604    1.758566  1.925750        1000.0          0.0            39.83   39.83            0.89\n",
      "6137858       GLORYHAMMER    11.7417    2.028079  1.555284        1000.0          0.0            37.04   37.04            0.65\n",
      "1545031              NerO    11.7179    1.650890  5.609771        1000.0          0.0           108.52  108.52            3.82\n",
      "12498437     lightingloyz    11.7059    1.668038  1.613742        1000.0          0.0            31.51   31.51            0.62\n",
      "11285958          Biroche    11.6995    2.473486  1.491403        1000.0          0.0            43.16   43.16            0.69\n",
      "7630971     VROUM CV VITE    11.6366    1.735202  2.926308        1000.0          0.0            59.09   59.09            1.69\n",
      "22603358           sencqo    11.5524    1.957696  1.468307        1000.0          0.0            33.21   33.21            0.57\n",
      "4595465            lespi6    11.5343    1.864166  2.373820        1000.0          0.0            51.04   51.04            1.27\n",
      "12902063         Francois    11.4127    3.704998  1.451663        1000.0          0.0            61.38   61.38            0.90\n",
      "\n",
      "\n",
      "INVESTORS\n",
      "         cash_balance\n",
      "name                 \n",
      "besta      99970530.2\n",
      "carbone        1000.0\n",
      "mion1          1000.0\n",
      "\n",
      "\n",
      "HISTORY\n",
      "               investor    stock_id  quantity                    datetime\n",
      "transaction_id                                                           \n",
      "0                 besta  11750028.0     100.0  2024-02-19 22:51:06.337568\n",
      "1                 besta    718454.0     100.0  2024-02-19 22:51:06.396476\n",
      "2                 besta  11750028.0       1.0  2024-02-19 22:51:06.447390\n",
      "3                 besta    718454.0      -5.0  2024-02-19 22:51:06.503800\n",
      "4                 besta  11750028.0       1.0  2024-02-19 22:51:07.595116\n",
      "5                 besta    718454.0       5.0  2024-02-19 22:51:07.650028\n",
      "6                 besta  11750028.0       2.0  2024-02-19 22:51:08.711418\n",
      "7                 besta    718454.0       4.0  2024-02-19 22:51:08.766251\n",
      "8                 besta  11750028.0       5.0  2024-02-19 22:51:09.832312\n",
      "9                 besta    718454.0       2.0  2024-02-19 22:51:09.885533\n",
      "10                besta  11750028.0       2.0  2024-02-19 22:51:10.948124\n",
      "11                besta    718454.0       3.0  2024-02-19 22:51:11.013021\n",
      "12                besta  11750028.0      -4.0  2024-02-19 22:51:12.076928\n",
      "13                besta    718454.0      -5.0  2024-02-19 22:51:12.134777\n",
      "14                besta  11750028.0      -5.0  2024-02-19 22:51:13.199717\n",
      "15                besta    718454.0       4.0  2024-02-19 22:51:13.255128\n",
      "16                besta  11750028.0       4.0  2024-02-19 22:51:14.329537\n",
      "17                besta    718454.0      -1.0  2024-02-19 22:51:14.396957\n",
      "18                besta  11750028.0       4.0  2024-02-19 22:51:15.456849\n",
      "19                besta    718454.0       2.0  2024-02-19 22:51:15.510301\n",
      "20                besta  11750028.0      -2.0  2024-02-19 22:51:16.582226\n",
      "21                besta    718454.0       1.0  2024-02-19 22:51:16.645126\n",
      "22                besta  11750028.0      -1.0  2024-02-19 22:51:17.712476\n",
      "23                besta    718454.0      -2.0  2024-02-19 22:51:17.771804\n",
      "24                besta  11750028.0      -4.0  2024-02-19 22:51:18.838770\n",
      "25                besta    718454.0      -2.0  2024-02-19 22:51:18.900172\n",
      "26                besta  11750028.0       4.0  2024-02-19 22:51:19.963717\n",
      "27                besta    718454.0       2.0  2024-02-19 22:51:20.018406\n",
      "28                besta  11750028.0       1.0  2024-02-19 22:51:21.087874\n",
      "29                besta    718454.0       4.0  2024-02-19 22:51:21.154269\n",
      "30                besta  11750028.0       3.0  2024-02-19 22:51:22.223382\n",
      "31                besta    718454.0      -2.0  2024-02-19 22:51:22.298904\n",
      "32                besta  11750028.0      -3.0  2024-02-19 22:51:23.382058\n",
      "33                besta    718454.0       4.0  2024-02-19 22:51:23.428746\n",
      "34                besta  11750028.0      -4.0  2024-02-19 22:51:24.491548\n",
      "35                besta    718454.0       2.0  2024-02-19 22:51:24.551598\n",
      "36                besta  11750028.0      -3.0  2024-02-19 22:51:25.626187\n",
      "37                besta    718454.0       4.0  2024-02-19 22:51:25.699122\n",
      "38                besta    718454.0       2.0  2024-02-19 22:51:26.800995\n",
      "39                besta  11750028.0       2.0  2024-02-19 22:51:27.892434\n",
      "40                besta    718454.0      -5.0  2024-02-19 22:51:27.960909\n"
     ]
    }
   ],
   "source": [
    "print_all()"
   ]
  },
  {
   "cell_type": "code",
   "execution_count": null,
   "metadata": {},
   "outputs": [
    {
     "data": {
      "text/plain": [
       "24"
      ]
     },
     "execution_count": 6,
     "metadata": {},
     "output_type": "execute_result"
    }
   ],
   "source": [
    "from datetime import datetime\n",
    "import time\n",
    "\n",
    "\n",
    "history = pd.read_csv(\"transactions_history.csv\", index_col='transaction_id')\n",
    "history = history.astype({\"stock_id\": int})\n",
    "history['datetime'] = pd.to_datetime(history['datetime'])\n",
    "(datetime.now() - history.loc[0,'datetime']).seconds"
   ]
  },
  {
   "cell_type": "code",
   "execution_count": null,
   "metadata": {},
   "outputs": [],
   "source": [
    "# from routines import update_player_data_raw\n",
    "# update_player_data_raw()"
   ]
  },
  {
   "cell_type": "code",
   "execution_count": null,
   "metadata": {},
   "outputs": [],
   "source": [
    "# print(add_current_name_col(df_raw))"
   ]
  },
  {
   "cell_type": "code",
   "execution_count": null,
   "metadata": {},
   "outputs": [],
   "source": [
    "# print_df = normalized_df.sort_values(by=\"computed_hype\", ascending=False)\n",
    "\n",
    "# print(print_df[['current_name','is_active','rank_current_to_mean','rank_current_to_worst','rank_current_to_highest_ever','is_silenced','scores_recent_count','computed_hype']])\n",
    "# print(list(zip(list(print_df['current_name']),list(np.round(print_df['computed_hype'],2)))))"
   ]
  },
  {
   "cell_type": "code",
   "execution_count": null,
   "metadata": {},
   "outputs": [],
   "source": [
    "# from osuapi import api\n",
    "\n",
    "# u = api.user(11843859)"
   ]
  }
 ],
 "metadata": {
  "kernelspec": {
   "display_name": "Python 3",
   "language": "python",
   "name": "python3"
  },
  "language_info": {
   "codemirror_mode": {
    "name": "ipython",
    "version": 3
   },
   "file_extension": ".py",
   "mimetype": "text/x-python",
   "name": "python",
   "nbconvert_exporter": "python",
   "pygments_lexer": "ipython3",
   "version": "3.11.4"
  }
 },
 "nbformat": 4,
 "nbformat_minor": 2
}
